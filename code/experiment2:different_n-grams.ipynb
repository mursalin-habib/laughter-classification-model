{
 "cells": [
  {
   "cell_type": "code",
   "execution_count": 35,
   "id": "2cd2fac0-ca41-4174-8260-e8091664091b",
   "metadata": {
    "tags": []
   },
   "outputs": [
    {
     "name": "stdout",
     "output_type": "stream",
     "text": [
      "Requirement already satisfied: nltk in /opt/conda/lib/python3.10/site-packages (3.8.1)\n",
      "Requirement already satisfied: tqdm in /opt/conda/lib/python3.10/site-packages (from nltk) (4.64.0)\n",
      "Requirement already satisfied: click in /opt/conda/lib/python3.10/site-packages (from nltk) (8.1.3)\n",
      "Requirement already satisfied: regex>=2021.8.3 in /opt/conda/lib/python3.10/site-packages (from nltk) (2023.3.23)\n",
      "Requirement already satisfied: joblib in /opt/conda/lib/python3.10/site-packages (from nltk) (1.1.0)\n",
      "\n",
      "\u001b[1m[\u001b[0m\u001b[34;49mnotice\u001b[0m\u001b[1;39;49m]\u001b[0m\u001b[39;49m A new release of pip is available: \u001b[0m\u001b[31;49m23.0\u001b[0m\u001b[39;49m -> \u001b[0m\u001b[32;49m23.1.2\u001b[0m\n",
      "\u001b[1m[\u001b[0m\u001b[34;49mnotice\u001b[0m\u001b[1;39;49m]\u001b[0m\u001b[39;49m To update, run: \u001b[0m\u001b[32;49mpip install --upgrade pip\u001b[0m\n"
     ]
    }
   ],
   "source": [
    "!pip install nltk"
   ]
  },
  {
   "cell_type": "code",
   "execution_count": 36,
   "id": "676f1b64-4d7e-4b57-b11b-cc77dff7aaf5",
   "metadata": {
    "tags": []
   },
   "outputs": [],
   "source": [
    "import pandas as pd\n",
    "import re\n",
    "import nltk\n",
    "import numpy as np\n",
    "from nltk.stem import WordNetLemmatizer\n"
   ]
  },
  {
   "cell_type": "code",
   "execution_count": 37,
   "id": "53660c00-ec96-477c-929d-e30b52153ea1",
   "metadata": {
    "tags": []
   },
   "outputs": [],
   "source": [
    "df = pd.read_csv('data.csv')\n"
   ]
  },
  {
   "cell_type": "code",
   "execution_count": 38,
   "id": "b71acd3f-e67f-4937-b15c-075fddedcf08",
   "metadata": {
    "tags": []
   },
   "outputs": [
    {
     "name": "stderr",
     "output_type": "stream",
     "text": [
      "[nltk_data] Downloading package wordnet to /home/jovyan/nltk_data...\n",
      "[nltk_data]   Package wordnet is already up-to-date!\n"
     ]
    }
   ],
   "source": [
    "nltk.download('wordnet')\n",
    "\n",
    "lemmatizer = WordNetLemmatizer()"
   ]
  },
  {
   "cell_type": "code",
   "execution_count": 39,
   "id": "096c91e6-e691-4c3d-8b9c-ef3e66de41c4",
   "metadata": {
    "tags": []
   },
   "outputs": [],
   "source": [
    "df['Tweet'] = df['Tweet'].apply(lambda x: x.lower())#lowercase\n",
    "\n",
    "df['Tweet'] = df['Tweet'].apply(lambda x: re.sub(r'(@[\\w]+\\s)+','username ',x))#username\n",
    "\n",
    "df['Tweet'] = df['Tweet'].apply(lambda x: re.sub(r'http\\S+|www\\S+','http',x))#link\n",
    "\n",
    "df['Tweet'] = df['Tweet'].apply(lambda x: re.sub(r'#(([\\w]+\\s[\\w]+)+)',r'\\1',x))#hashtags\n",
    "\n",
    "df['Tweet'] = df['Tweet'].apply(lambda x: re.sub(r'(#[\\w]+)+',' ',x))#hashtags\n",
    "\n",
    "df['Tweet'] = df['Tweet'].apply(lambda x: re.sub('[^\\w\\s]','',x))#punctuation and all emojis\n",
    "\n",
    "df['Tweet'] = df['Tweet'].apply(lambda x: re.sub('amp','and',x))\n",
    "\n",
    "df['Tweet'] = df['Tweet'].apply(lambda x: re.sub('\\s+',' ',x))#remove whitespaces\n",
    "\n",
    "df['Tweet'] = df['Tweet'].apply(lambda x: ' '.join([lemmatizer.lemmatize(word) for word in x.split()]))#lemmatization\n"
   ]
  },
  {
   "cell_type": "code",
   "execution_count": 40,
   "id": "6ede104b-8e89-43ac-96b1-08459647b979",
   "metadata": {
    "tags": []
   },
   "outputs": [],
   "source": [
    "df['category'] = df['Label'].apply(lambda x: 1 if x =='Joyous' else 2 if x =='Sarcasm' else 0)"
   ]
  },
  {
   "cell_type": "code",
   "execution_count": 41,
   "id": "0b07653a-cbcb-4cb7-8193-070a9c88773e",
   "metadata": {
    "tags": []
   },
   "outputs": [
    {
     "data": {
      "text/html": [
       "<div>\n",
       "<style scoped>\n",
       "    .dataframe tbody tr th:only-of-type {\n",
       "        vertical-align: middle;\n",
       "    }\n",
       "\n",
       "    .dataframe tbody tr th {\n",
       "        vertical-align: top;\n",
       "    }\n",
       "\n",
       "    .dataframe thead th {\n",
       "        text-align: right;\n",
       "    }\n",
       "</style>\n",
       "<table border=\"1\" class=\"dataframe\">\n",
       "  <thead>\n",
       "    <tr style=\"text-align: right;\">\n",
       "      <th></th>\n",
       "      <th>Label</th>\n",
       "      <th>Tweet</th>\n",
       "      <th>category</th>\n",
       "    </tr>\n",
       "  </thead>\n",
       "  <tbody>\n",
       "    <tr>\n",
       "      <th>0</th>\n",
       "      <td>Schadenfreude</td>\n",
       "      <td>username did the police officer in question th...</td>\n",
       "      <td>0</td>\n",
       "    </tr>\n",
       "    <tr>\n",
       "      <th>1</th>\n",
       "      <td>Schadenfreude</td>\n",
       "      <td>username please report to the carwash your bit...</td>\n",
       "      <td>0</td>\n",
       "    </tr>\n",
       "    <tr>\n",
       "      <th>2</th>\n",
       "      <td>Sarcasm</td>\n",
       "      <td>username right wing christianity is a mean and...</td>\n",
       "      <td>2</td>\n",
       "    </tr>\n",
       "    <tr>\n",
       "      <th>3</th>\n",
       "      <td>Schadenfreude</td>\n",
       "      <td>username it part of history so no it wont what...</td>\n",
       "      <td>0</td>\n",
       "    </tr>\n",
       "    <tr>\n",
       "      <th>4</th>\n",
       "      <td>Sarcasm</td>\n",
       "      <td>username i guess the forecast wa wrong but at ...</td>\n",
       "      <td>2</td>\n",
       "    </tr>\n",
       "  </tbody>\n",
       "</table>\n",
       "</div>"
      ],
      "text/plain": [
       "           Label                                              Tweet  category\n",
       "0  Schadenfreude  username did the police officer in question th...         0\n",
       "1  Schadenfreude  username please report to the carwash your bit...         0\n",
       "2        Sarcasm  username right wing christianity is a mean and...         2\n",
       "3  Schadenfreude  username it part of history so no it wont what...         0\n",
       "4        Sarcasm  username i guess the forecast wa wrong but at ...         2"
      ]
     },
     "execution_count": 41,
     "metadata": {},
     "output_type": "execute_result"
    }
   ],
   "source": [
    "df.head()"
   ]
  },
  {
   "cell_type": "code",
   "execution_count": 42,
   "id": "09502a55-0df3-47d4-8da9-c194512eccdd",
   "metadata": {
    "tags": []
   },
   "outputs": [],
   "source": [
    "from sklearn.metrics import accuracy_score\n",
    "from sklearn.model_selection import cross_val_score, KFold\n",
    "from sklearn.feature_extraction.text import CountVectorizer, TfidfVectorizer\n",
    "from sklearn.svm import SVC\n",
    "from sklearn.metrics import classification_report\n"
   ]
  },
  {
   "cell_type": "code",
   "execution_count": 43,
   "id": "18402793-7592-42aa-8dbb-7418fc90e3dd",
   "metadata": {
    "tags": []
   },
   "outputs": [
    {
     "name": "stdout",
     "output_type": "stream",
     "text": [
      "Mean accuracy:  0.7251197848076438\n",
      "Std for accuracy:  0.01587889586679441\n",
      "              precision    recall  f1-score   support\n",
      "\n",
      "           0       0.86      0.79      0.82       305\n",
      "           1       0.63      0.94      0.76       280\n",
      "           2       0.76      0.38      0.50       216\n",
      "\n",
      "    accuracy                           0.73       801\n",
      "   macro avg       0.75      0.70      0.69       801\n",
      "weighted avg       0.76      0.73      0.71       801\n",
      "\n"
     ]
    }
   ],
   "source": [
    "X, y = df['Tweet'], df['category']\n",
    "metrics = []\n",
    "\n",
    "skf = KFold(n_splits=5)\n",
    "for train_index, test_index in skf.split(X, y):\n",
    "    X_train, X_test = X[train_index], X[test_index]\n",
    "    y_train, y_test = y[train_index], y[test_index]\n",
    "\n",
    "    vect = TfidfVectorizer(ngram_range=(1,3), max_features=1000)\n",
    "    X_train_dtm = vect.fit_transform(X_train)\n",
    "    X_test_dtm = vect.transform(X_test)\n",
    "    svm = SVC()\n",
    "    svm.fit(X_train_dtm, y_train)\n",
    "    y_pred_class = svm.predict(X_test_dtm)\n",
    "\n",
    "    metrics.append(accuracy_score(y_test, y_pred_class))\n",
    "\n",
    "metrics = np.array(metrics)\n",
    "print('Mean accuracy: ', np.mean(metrics, axis=0))\n",
    "print('Std for accuracy: ', np.std(metrics, axis=0))\n",
    "print(classification_report(y_test, y_pred_class))"
   ]
  },
  {
   "cell_type": "code",
   "execution_count": 44,
   "id": "38469169-28b1-49b1-97bd-07f52bca3ebd",
   "metadata": {
    "tags": []
   },
   "outputs": [],
   "source": [
    "from sklearn.metrics import confusion_matrix, ConfusionMatrixDisplay\n",
    "import matplotlib.pyplot as plt"
   ]
  },
  {
   "cell_type": "code",
   "execution_count": 45,
   "id": "6f239053-bbbf-49a3-b9c8-922d89908742",
   "metadata": {
    "tags": []
   },
   "outputs": [
    {
     "data": {
      "image/png": "[encoded data removed]",
      "text/plain": [
       "<Figure size 432x288 with 2 Axes>"
      ]
     },
     "metadata": {
      "needs_background": "light"
     },
     "output_type": "display_data"
    }
   ],
   "source": [
    "cm = confusion_matrix(y_test, y_pred_class, labels=svm.classes_)\n",
    "disp = ConfusionMatrixDisplay(confusion_matrix=cm, display_labels=svm.classes_)\n",
    "disp.plot()\n",
    "plt.show()"
   ]
  },
  {
   "cell_type": "code",
   "execution_count": 46,
   "id": "d8a5c238-5f52-4c2e-8f26-317d9a4769fe",
   "metadata": {
    "tags": []
   },
   "outputs": [
    {
     "name": "stdout",
     "output_type": "stream",
     "text": [
      "Mean accuracy:  0.7243707211372319\n",
      "Std for accuracy:  0.013347659500674272\n",
      "              precision    recall  f1-score   support\n",
      "\n",
      "           0       0.86      0.79      0.82       305\n",
      "           1       0.63      0.94      0.75       280\n",
      "           2       0.76      0.37      0.49       216\n",
      "\n",
      "    accuracy                           0.73       801\n",
      "   macro avg       0.75      0.70      0.69       801\n",
      "weighted avg       0.75      0.73      0.71       801\n",
      "\n"
     ]
    }
   ],
   "source": [
    "X, y = df['Tweet'], df['category']\n",
    "metrics = []\n",
    "\n",
    "skf = KFold(n_splits=5)\n",
    "for train_index, test_index in skf.split(X, y):\n",
    "    X_train, X_test = X[train_index], X[test_index]\n",
    "    y_train, y_test = y[train_index], y[test_index]\n",
    "\n",
    "    vect = TfidfVectorizer(ngram_range=(1,2), max_features=1000)\n",
    "    X_train_dtm = vect.fit_transform(X_train)\n",
    "    X_test_dtm = vect.transform(X_test)\n",
    "    svm = SVC()\n",
    "    svm.fit(X_train_dtm, y_train)\n",
    "    y_pred_class = svm.predict(X_test_dtm)\n",
    "\n",
    "    metrics.append(accuracy_score(y_test, y_pred_class))\n",
    "\n",
    "metrics = np.array(metrics)\n",
    "print('Mean accuracy: ', np.mean(metrics, axis=0))\n",
    "print('Std for accuracy: ', np.std(metrics, axis=0))\n",
    "print(classification_report(y_test, y_pred_class))"
   ]
  },
  {
   "cell_type": "code",
   "execution_count": 47,
   "id": "c6eeb99e-78f2-4c36-b26d-89f62e143ada",
   "metadata": {
    "tags": []
   },
   "outputs": [
    {
     "data": {
      "image/png": "[encoded data removed]",
      "text/plain": [
       "<Figure size 432x288 with 2 Axes>"
      ]
     },
     "metadata": {
      "needs_background": "light"
     },
     "output_type": "display_data"
    }
   ],
   "source": [
    "cm = confusion_matrix(y_test, y_pred_class, labels=svm.classes_)\n",
    "disp = ConfusionMatrixDisplay(confusion_matrix=cm, display_labels=svm.classes_)\n",
    "disp.plot()\n",
    "plt.show()"
   ]
  },
  {
   "cell_type": "code",
   "execution_count": 48,
   "id": "6fa754e9-b2bd-4333-8539-f0192d60a9d9",
   "metadata": {
    "tags": []
   },
   "outputs": [
    {
     "name": "stdout",
     "output_type": "stream",
     "text": [
      "Mean accuracy:  0.5752039999875468\n",
      "Std for accuracy:  0.015653365194301907\n",
      "              precision    recall  f1-score   support\n",
      "\n",
      "           0       0.66      0.60      0.63       305\n",
      "           1       0.49      0.74      0.59       280\n",
      "           2       0.62      0.31      0.41       216\n",
      "\n",
      "    accuracy                           0.57       801\n",
      "   macro avg       0.59      0.55      0.54       801\n",
      "weighted avg       0.59      0.57      0.56       801\n",
      "\n"
     ]
    }
   ],
   "source": [
    "X, y = df['Tweet'], df['category']\n",
    "metrics = []\n",
    "\n",
    "skf = KFold(n_splits=5)\n",
    "for train_index, test_index in skf.split(X, y):\n",
    "    X_train, X_test = X[train_index], X[test_index]\n",
    "    y_train, y_test = y[train_index], y[test_index]\n",
    "\n",
    "    vect = TfidfVectorizer(ngram_range=(2,3), max_features=1000)\n",
    "    X_train_dtm = vect.fit_transform(X_train)\n",
    "    X_test_dtm = vect.transform(X_test)\n",
    "    svm = SVC()\n",
    "    svm.fit(X_train_dtm, y_train)\n",
    "    y_pred_class = svm.predict(X_test_dtm)\n",
    "\n",
    "    metrics.append(accuracy_score(y_test, y_pred_class))\n",
    "\n",
    "metrics = np.array(metrics)\n",
    "print('Mean accuracy: ', np.mean(metrics, axis=0))\n",
    "print('Std for accuracy: ', np.std(metrics, axis=0))\n",
    "print(classification_report(y_test, y_pred_class))"
   ]
  },
  {
   "cell_type": "code",
   "execution_count": 49,
   "id": "3be34f9c-886c-4468-9d25-a20fb15fb22e",
   "metadata": {
    "tags": []
   },
   "outputs": [
    {
     "data": {
      "image/png": "[encoded data removed]",
      "text/plain": [
       "<Figure size 432x288 with 2 Axes>"
      ]
     },
     "metadata": {
      "needs_background": "light"
     },
     "output_type": "display_data"
    }
   ],
   "source": [
    "cm = confusion_matrix(y_test, y_pred_class, labels=svm.classes_)\n",
    "disp = ConfusionMatrixDisplay(confusion_matrix=cm, display_labels=svm.classes_)\n",
    "disp.plot()\n",
    "plt.show()"
   ]
  },
  {
   "cell_type": "code",
   "execution_count": 50,
   "id": "77ae72c3-8259-4314-8c2e-7158689c5a85",
   "metadata": {
    "tags": []
   },
   "outputs": [
    {
     "name": "stdout",
     "output_type": "stream",
     "text": [
      "Mean accuracy:  0.7213775797709223\n",
      "Std for accuracy:  0.01604497919709016\n",
      "              precision    recall  f1-score   support\n",
      "\n",
      "           0       0.85      0.77      0.81       305\n",
      "           1       0.63      0.94      0.76       280\n",
      "           2       0.76      0.38      0.50       216\n",
      "\n",
      "    accuracy                           0.72       801\n",
      "   macro avg       0.75      0.70      0.69       801\n",
      "weighted avg       0.75      0.72      0.71       801\n",
      "\n"
     ]
    }
   ],
   "source": [
    "X, y = df['Tweet'], df['category']\n",
    "metrics = []\n",
    "\n",
    "skf = KFold(n_splits=5)\n",
    "for train_index, test_index in skf.split(X, y):\n",
    "    X_train, X_test = X[train_index], X[test_index]\n",
    "    y_train, y_test = y[train_index], y[test_index]\n",
    "\n",
    "    vect = TfidfVectorizer(ngram_range=(1,1), max_features=1000)\n",
    "    X_train_dtm = vect.fit_transform(X_train)\n",
    "    X_test_dtm = vect.transform(X_test)\n",
    "    svm = SVC()\n",
    "    svm.fit(X_train_dtm, y_train)\n",
    "    y_pred_class = svm.predict(X_test_dtm)\n",
    "\n",
    "    metrics.append(accuracy_score(y_test, y_pred_class))\n",
    "\n",
    "metrics = np.array(metrics)\n",
    "print('Mean accuracy: ', np.mean(metrics, axis=0))\n",
    "print('Std for accuracy: ', np.std(metrics, axis=0))\n",
    "print(classification_report(y_test, y_pred_class))"
   ]
  },
  {
   "cell_type": "code",
   "execution_count": 51,
   "id": "09e03412-9373-4984-bce5-5dbc63dfc121",
   "metadata": {
    "tags": []
   },
   "outputs": [
    {
     "data": {
      "image/png": "[encoded data removed]",
      "text/plain": [
       "<Figure size 432x288 with 2 Axes>"
      ]
     },
     "metadata": {
      "needs_background": "light"
     },
     "output_type": "display_data"
    }
   ],
   "source": [
    "cm = confusion_matrix(y_test, y_pred_class, labels=svm.classes_)\n",
    "disp = ConfusionMatrixDisplay(confusion_matrix=cm, display_labels=svm.classes_)\n",
    "disp.plot()\n",
    "plt.show()"
   ]
  },
  {
   "cell_type": "code",
   "execution_count": 52,
   "id": "17d37308-4e34-4d45-9e1b-f44a7abccae6",
   "metadata": {
    "tags": []
   },
   "outputs": [
    {
     "name": "stdout",
     "output_type": "stream",
     "text": [
      "Mean accuracy:  0.5834318697637928\n",
      "Std for accuracy:  0.020020546635930298\n",
      "              precision    recall  f1-score   support\n",
      "\n",
      "           0       0.67      0.61      0.64       305\n",
      "           1       0.48      0.73      0.58       280\n",
      "           2       0.61      0.28      0.39       216\n",
      "\n",
      "    accuracy                           0.56       801\n",
      "   macro avg       0.59      0.54      0.53       801\n",
      "weighted avg       0.59      0.56      0.55       801\n",
      "\n"
     ]
    }
   ],
   "source": [
    "X, y = df['Tweet'], df['category']\n",
    "metrics = []\n",
    "\n",
    "skf = KFold(n_splits=5)\n",
    "for train_index, test_index in skf.split(X, y):\n",
    "    X_train, X_test = X[train_index], X[test_index]\n",
    "    y_train, y_test = y[train_index], y[test_index]\n",
    "\n",
    "    vect = TfidfVectorizer(ngram_range=(2,2), max_features=1000)\n",
    "    X_train_dtm = vect.fit_transform(X_train)\n",
    "    X_test_dtm = vect.transform(X_test)\n",
    "    svm = SVC()\n",
    "    svm.fit(X_train_dtm, y_train)\n",
    "    y_pred_class = svm.predict(X_test_dtm)\n",
    "\n",
    "    metrics.append(accuracy_score(y_test, y_pred_class))\n",
    "\n",
    "metrics = np.array(metrics)\n",
    "print('Mean accuracy: ', np.mean(metrics, axis=0))\n",
    "print('Std for accuracy: ', np.std(metrics, axis=0))\n",
    "print(classification_report(y_test, y_pred_class))"
   ]
  },
  {
   "cell_type": "code",
   "execution_count": 53,
   "id": "53007ce0-5967-4ede-a91f-f68c7605bbcf",
   "metadata": {
    "tags": []
   },
   "outputs": [
    {
     "data": {
      "image/png": "[encoded data removed]",
      "text/plain": [
       "<Figure size 432x288 with 2 Axes>"
      ]
     },
     "metadata": {
      "needs_background": "light"
     },
     "output_type": "display_data"
    }
   ],
   "source": [
    "cm = confusion_matrix(y_test, y_pred_class, labels=svm.classes_)\n",
    "disp = ConfusionMatrixDisplay(confusion_matrix=cm, display_labels=svm.classes_)\n",
    "disp.plot()\n",
    "plt.show()"
   ]
  },
  {
   "cell_type": "code",
   "execution_count": 54,
   "id": "709cc1bd-b0a2-40f9-b41c-e9fb5b9aadc9",
   "metadata": {
    "tags": []
   },
   "outputs": [
    {
     "name": "stdout",
     "output_type": "stream",
     "text": [
      "Mean accuracy:  0.4387595306365796\n",
      "Std for accuracy:  0.011982400695301083\n",
      "              precision    recall  f1-score   support\n",
      "\n",
      "           0       0.74      0.21      0.32       305\n",
      "           1       0.38      0.95      0.55       280\n",
      "           2       0.52      0.05      0.09       216\n",
      "\n",
      "    accuracy                           0.43       801\n",
      "   macro avg       0.55      0.40      0.32       801\n",
      "weighted avg       0.56      0.43      0.34       801\n",
      "\n"
     ]
    }
   ],
   "source": [
    "X, y = df['Tweet'], df['category']\n",
    "metrics = []\n",
    "\n",
    "skf = KFold(n_splits=5)\n",
    "for train_index, test_index in skf.split(X, y):\n",
    "    X_train, X_test = X[train_index], X[test_index]\n",
    "    y_train, y_test = y[train_index], y[test_index]\n",
    "\n",
    "    vect = TfidfVectorizer(ngram_range=(3,3), max_features=1000)\n",
    "    X_train_dtm = vect.fit_transform(X_train)\n",
    "    X_test_dtm = vect.transform(X_test)\n",
    "    svm = SVC()\n",
    "    svm.fit(X_train_dtm, y_train)\n",
    "    y_pred_class = svm.predict(X_test_dtm)\n",
    "\n",
    "    metrics.append(accuracy_score(y_test, y_pred_class))\n",
    "\n",
    "metrics = np.array(metrics)\n",
    "print('Mean accuracy: ', np.mean(metrics, axis=0))\n",
    "print('Std for accuracy: ', np.std(metrics, axis=0))\n",
    "print(classification_report(y_test, y_pred_class))"
   ]
  },
  {
   "cell_type": "code",
   "execution_count": 55,
   "id": "b72d46bb-302a-4f4e-93f1-6bd1d09daf04",
   "metadata": {
    "tags": []
   },
   "outputs": [
    {
     "data": {
      "image/png": "[encoded data removed]",
      "text/plain": [
       "<Figure size 432x288 with 2 Axes>"
      ]
     },
     "metadata": {
      "needs_background": "light"
     },
     "output_type": "display_data"
    }
   ],
   "source": [
    "cm = confusion_matrix(y_test, y_pred_class, labels=svm.classes_)\n",
    "disp = ConfusionMatrixDisplay(confusion_matrix=cm, display_labels=svm.classes_)\n",
    "disp.plot()\n",
    "plt.show()"
   ]
  },
  {
   "cell_type": "code",
   "execution_count": null,
   "id": "9c758739-54d6-4f8d-a8d6-71f3d2f1fbd9",
   "metadata": {},
   "outputs": [],
   "source": []
  }
 ],
 "metadata": {
  "kernelspec": {
   "display_name": "Python 3 (ipykernel)",
   "language": "python",
   "name": "python3"
  },
  "language_info": {
   "codemirror_mode": {
    "name": "ipython",
    "version": 3
   },
   "file_extension": ".py",
   "mimetype": "text/x-python",
   "name": "python",
   "nbconvert_exporter": "python",
   "pygments_lexer": "ipython3",
   "version": "3.10.5"
  }
 },
 "nbformat": 4,
 "nbformat_minor": 5
}
