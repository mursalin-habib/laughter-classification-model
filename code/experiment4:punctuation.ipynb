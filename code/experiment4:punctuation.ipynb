{
 "cells": [
  {
   "cell_type": "code",
   "execution_count": 1,
   "id": "2cd2fac0-ca41-4174-8260-e8091664091b",
   "metadata": {},
   "outputs": [
    {
     "name": "stdout",
     "output_type": "stream",
     "text": [
      "Requirement already satisfied: nltk in /opt/conda/lib/python3.10/site-packages (3.8.1)\n",
      "Requirement already satisfied: regex>=2021.8.3 in /opt/conda/lib/python3.10/site-packages (from nltk) (2023.5.4)\n",
      "Requirement already satisfied: click in /opt/conda/lib/python3.10/site-packages (from nltk) (8.1.3)\n",
      "Requirement already satisfied: tqdm in /opt/conda/lib/python3.10/site-packages (from nltk) (4.64.0)\n",
      "Requirement already satisfied: joblib in /opt/conda/lib/python3.10/site-packages (from nltk) (1.1.0)\n",
      "\n",
      "\u001b[1m[\u001b[0m\u001b[34;49mnotice\u001b[0m\u001b[1;39;49m]\u001b[0m\u001b[39;49m A new release of pip is available: \u001b[0m\u001b[31;49m23.0\u001b[0m\u001b[39;49m -> \u001b[0m\u001b[32;49m23.1.2\u001b[0m\n",
      "\u001b[1m[\u001b[0m\u001b[34;49mnotice\u001b[0m\u001b[1;39;49m]\u001b[0m\u001b[39;49m To update, run: \u001b[0m\u001b[32;49mpip install --upgrade pip\u001b[0m\n"
     ]
    }
   ],
   "source": [
    "!pip install nltk"
   ]
  },
  {
   "cell_type": "code",
   "execution_count": 2,
   "id": "676f1b64-4d7e-4b57-b11b-cc77dff7aaf5",
   "metadata": {
    "tags": []
   },
   "outputs": [],
   "source": [
    "import pandas as pd\n",
    "import re\n",
    "import nltk\n",
    "import numpy as np\n",
    "from nltk.stem import WordNetLemmatizer\n"
   ]
  },
  {
   "cell_type": "code",
   "execution_count": 3,
   "id": "53660c00-ec96-477c-929d-e30b52153ea1",
   "metadata": {
    "tags": []
   },
   "outputs": [],
   "source": [
    "df = pd.read_csv('data.csv')\n"
   ]
  },
  {
   "cell_type": "code",
   "execution_count": 4,
   "id": "b71acd3f-e67f-4937-b15c-075fddedcf08",
   "metadata": {
    "tags": []
   },
   "outputs": [
    {
     "name": "stderr",
     "output_type": "stream",
     "text": [
      "[nltk_data] Downloading package wordnet to /home/jovyan/nltk_data...\n",
      "[nltk_data]   Package wordnet is already up-to-date!\n"
     ]
    }
   ],
   "source": [
    "nltk.download('wordnet')\n",
    "\n",
    "lemmatizer = WordNetLemmatizer()"
   ]
  },
  {
   "cell_type": "code",
   "execution_count": 5,
   "id": "096c91e6-e691-4c3d-8b9c-ef3e66de41c4",
   "metadata": {
    "tags": []
   },
   "outputs": [],
   "source": [
    "df['Tweet'] = df['Tweet'].apply(lambda x: x.lower())#lowercase\n",
    "\n",
    "df['Tweet'] = df['Tweet'].apply(lambda x: re.sub(r'(@[\\w]+\\s)+','username ',x))#username\n",
    "\n",
    "df['Tweet'] = df['Tweet'].apply(lambda x: re.sub(r'http\\S+|www\\S+','http',x))#link\n",
    "\n",
    "df['Tweet'] = df['Tweet'].apply(lambda x: re.sub(r'#(([\\w]+\\s[\\w]+)+)',r'\\1',x))#hashtags\n",
    "\n",
    "df['Tweet'] = df['Tweet'].apply(lambda x: re.sub(r'(#[\\w]+)+',' ',x))#hashtags\n",
    "\n",
    "df['Tweet'] = df['Tweet'].apply(lambda x: re.sub('[^\\w\\?\\!\\s]','',x))#punctuation except ! and ? emoji \n",
    "\n",
    "df['Tweet'] = df['Tweet'].apply(lambda x: re.sub(r'\\?+','? ',x))\n",
    "\n",
    "df['Tweet'] = df['Tweet'].apply(lambda x: re.sub(r'\\!+','! ',x))\n",
    "\n",
    "df['Tweet'] = df['Tweet'].apply(lambda x: re.sub('amp','and',x))\n",
    "\n",
    "df['Tweet'] = df['Tweet'].apply(lambda x: re.sub('\\s+',' ',x))#remove whitespaces\n",
    "\n",
    "df['Tweet'] = df['Tweet'].apply(lambda x: ' '.join([lemmatizer.lemmatize(word) for word in x.split()]))#lemmatization\n"
   ]
  },
  {
   "cell_type": "code",
   "execution_count": 6,
   "id": "6ede104b-8e89-43ac-96b1-08459647b979",
   "metadata": {
    "tags": []
   },
   "outputs": [],
   "source": [
    "df['category'] = df['Label'].apply(lambda x: 1 if x =='Joyous' else 2 if x =='Sarcasm' else 0)"
   ]
  },
  {
   "cell_type": "code",
   "execution_count": 7,
   "id": "0b07653a-cbcb-4cb7-8193-070a9c88773e",
   "metadata": {
    "tags": []
   },
   "outputs": [
    {
     "data": {
      "text/html": [
       "<div>\n",
       "<style scoped>\n",
       "    .dataframe tbody tr th:only-of-type {\n",
       "        vertical-align: middle;\n",
       "    }\n",
       "\n",
       "    .dataframe tbody tr th {\n",
       "        vertical-align: top;\n",
       "    }\n",
       "\n",
       "    .dataframe thead th {\n",
       "        text-align: right;\n",
       "    }\n",
       "</style>\n",
       "<table border=\"1\" class=\"dataframe\">\n",
       "  <thead>\n",
       "    <tr style=\"text-align: right;\">\n",
       "      <th></th>\n",
       "      <th>Label</th>\n",
       "      <th>Tweet</th>\n",
       "      <th>category</th>\n",
       "    </tr>\n",
       "  </thead>\n",
       "  <tbody>\n",
       "    <tr>\n",
       "      <th>0</th>\n",
       "      <td>Schadenfreude</td>\n",
       "      <td>username did the police officer in question th...</td>\n",
       "      <td>0</td>\n",
       "    </tr>\n",
       "    <tr>\n",
       "      <th>1</th>\n",
       "      <td>Schadenfreude</td>\n",
       "      <td>username please report to the carwash your bit...</td>\n",
       "      <td>0</td>\n",
       "    </tr>\n",
       "    <tr>\n",
       "      <th>2</th>\n",
       "      <td>Sarcasm</td>\n",
       "      <td>username right wing christianity is a mean and...</td>\n",
       "      <td>2</td>\n",
       "    </tr>\n",
       "    <tr>\n",
       "      <th>3</th>\n",
       "      <td>Schadenfreude</td>\n",
       "      <td>username it part of history so no it wont what...</td>\n",
       "      <td>0</td>\n",
       "    </tr>\n",
       "    <tr>\n",
       "      <th>4</th>\n",
       "      <td>Sarcasm</td>\n",
       "      <td>username i guess the forecast wa wrong but at ...</td>\n",
       "      <td>2</td>\n",
       "    </tr>\n",
       "  </tbody>\n",
       "</table>\n",
       "</div>"
      ],
      "text/plain": [
       "           Label                                              Tweet  category\n",
       "0  Schadenfreude  username did the police officer in question th...         0\n",
       "1  Schadenfreude  username please report to the carwash your bit...         0\n",
       "2        Sarcasm  username right wing christianity is a mean and...         2\n",
       "3  Schadenfreude  username it part of history so no it wont what...         0\n",
       "4        Sarcasm  username i guess the forecast wa wrong but at ...         2"
      ]
     },
     "execution_count": 7,
     "metadata": {},
     "output_type": "execute_result"
    }
   ],
   "source": [
    "df.head()"
   ]
  },
  {
   "cell_type": "code",
   "execution_count": 8,
   "id": "09502a55-0df3-47d4-8da9-c194512eccdd",
   "metadata": {
    "tags": []
   },
   "outputs": [],
   "source": [
    "from sklearn.metrics import accuracy_score\n",
    "from sklearn.model_selection import cross_val_score, KFold\n",
    "from sklearn.feature_extraction.text import CountVectorizer, TfidfVectorizer\n",
    "from sklearn.svm import SVC\n",
    "from sklearn.metrics import classification_report\n",
    "from sklearn.naive_bayes import MultinomialNB\n",
    "from sklearn.linear_model import LogisticRegression\n"
   ]
  },
  {
   "cell_type": "code",
   "execution_count": 9,
   "id": "3c259bb1-859c-478b-b4c2-0681ed46faa7",
   "metadata": {
    "tags": []
   },
   "outputs": [
    {
     "name": "stdout",
     "output_type": "stream",
     "text": [
      "Mean accuracy:  0.7256179152617832\n",
      "Std for accuracy:  0.01951656873301528\n",
      "               precision    recall  f1-score   support\n",
      "\n",
      "       Joyous       0.63      0.94      0.75       280\n",
      "      Sarcasm       0.75      0.39      0.51       216\n",
      "Schadenfreude       0.87      0.77      0.82       305\n",
      "\n",
      "     accuracy                           0.73       801\n",
      "    macro avg       0.75      0.70      0.70       801\n",
      " weighted avg       0.75      0.73      0.71       801\n",
      "\n"
     ]
    }
   ],
   "source": [
    "X, y = df['Tweet'], df['Label']\n",
    "metrics = []\n",
    "\n",
    "skf = KFold(n_splits=5)\n",
    "for train_index, test_index in skf.split(X, y):\n",
    "    X_train, X_test = X[train_index], X[test_index]\n",
    "    y_train, y_test = y[train_index], y[test_index]\n",
    "\n",
    "    vect = TfidfVectorizer(ngram_range=(1,3), max_features=1500)\n",
    "    X_train_dtm = vect.fit_transform(X_train)\n",
    "    X_test_dtm = vect.transform(X_test)\n",
    "    svm = SVC()\n",
    "    svm.fit(X_train_dtm, y_train)\n",
    "    y_pred_class = svm.predict(X_test_dtm)\n",
    "\n",
    "    metrics.append(accuracy_score(y_test, y_pred_class))\n",
    "\n",
    "metrics = np.array(metrics)\n",
    "print('Mean accuracy: ', np.mean(metrics, axis=0))\n",
    "print('Std for accuracy: ', np.std(metrics, axis=0))\n",
    "print(classification_report(y_test, y_pred_class))"
   ]
  },
  {
   "cell_type": "code",
   "execution_count": 10,
   "id": "7067933b-5351-415e-af62-61e92fbaa56d",
   "metadata": {
    "tags": []
   },
   "outputs": [],
   "source": [
    "from sklearn.metrics import confusion_matrix, ConfusionMatrixDisplay\n",
    "import matplotlib.pyplot as plt"
   ]
  },
  {
   "cell_type": "code",
   "execution_count": 11,
   "id": "058834f7-f6b6-488a-b206-73cd91cea95a",
   "metadata": {
    "tags": []
   },
   "outputs": [
    {
     "data": {
      "image/png": "[encoded data removed]",
      "text/plain": [
       "<Figure size 432x288 with 2 Axes>"
      ]
     },
     "metadata": {
      "needs_background": "light"
     },
     "output_type": "display_data"
    }
   ],
   "source": [
    "cm = confusion_matrix(y_test, y_pred_class, labels=svm.classes_)\n",
    "disp = ConfusionMatrixDisplay(confusion_matrix=cm, display_labels=svm.classes_)\n",
    "disp.plot()\n",
    "plt.show()"
   ]
  },
  {
   "cell_type": "code",
   "execution_count": null,
   "id": "6f239053-bbbf-49a3-b9c8-922d89908742",
   "metadata": {
    "tags": []
   },
   "outputs": [],
   "source": []
  }
 ],
 "metadata": {
  "kernelspec": {
   "display_name": "Python 3 (ipykernel)",
   "language": "python",
   "name": "python3"
  },
  "language_info": {
   "codemirror_mode": {
    "name": "ipython",
    "version": 3
   },
   "file_extension": ".py",
   "mimetype": "text/x-python",
   "name": "python",
   "nbconvert_exporter": "python",
   "pygments_lexer": "ipython3",
   "version": "3.10.5"
  }
 },
 "nbformat": 4,
 "nbformat_minor": 5
}
