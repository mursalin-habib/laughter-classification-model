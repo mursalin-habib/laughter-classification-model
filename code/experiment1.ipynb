{
 "cells": [
  {
   "cell_type": "code",
   "execution_count": 1,
   "id": "2cd2fac0-ca41-4174-8260-e8091664091b",
   "metadata": {},
   "outputs": [
    {
     "name": "stdout",
     "output_type": "stream",
     "text": [
      "Requirement already satisfied: nltk in /opt/conda/lib/python3.10/site-packages (3.8.1)\n",
      "Requirement already satisfied: click in /opt/conda/lib/python3.10/site-packages (from nltk) (8.1.3)\n",
      "Requirement already satisfied: regex>=2021.8.3 in /opt/conda/lib/python3.10/site-packages (from nltk) (2023.3.23)\n",
      "Requirement already satisfied: joblib in /opt/conda/lib/python3.10/site-packages (from nltk) (1.1.0)\n",
      "Requirement already satisfied: tqdm in /opt/conda/lib/python3.10/site-packages (from nltk) (4.64.0)\n",
      "\n",
      "\u001b[1m[\u001b[0m\u001b[34;49mnotice\u001b[0m\u001b[1;39;49m]\u001b[0m\u001b[39;49m A new release of pip is available: \u001b[0m\u001b[31;49m23.0\u001b[0m\u001b[39;49m -> \u001b[0m\u001b[32;49m23.1.2\u001b[0m\n",
      "\u001b[1m[\u001b[0m\u001b[34;49mnotice\u001b[0m\u001b[1;39;49m]\u001b[0m\u001b[39;49m To update, run: \u001b[0m\u001b[32;49mpip install --upgrade pip\u001b[0m\n"
     ]
    }
   ],
   "source": [
    "!pip install nltk"
   ]
  },
  {
   "cell_type": "code",
   "execution_count": 2,
   "id": "676f1b64-4d7e-4b57-b11b-cc77dff7aaf5",
   "metadata": {
    "tags": []
   },
   "outputs": [],
   "source": [
    "import pandas as pd\n",
    "import re\n",
    "import nltk\n",
    "import numpy as np\n",
    "from nltk.stem import WordNetLemmatizer\n"
   ]
  },
  {
   "cell_type": "code",
   "execution_count": 3,
   "id": "53660c00-ec96-477c-929d-e30b52153ea1",
   "metadata": {
    "tags": []
   },
   "outputs": [],
   "source": [
    "df = pd.read_csv('data.csv')\n"
   ]
  },
  {
   "cell_type": "code",
   "execution_count": 4,
   "id": "b71acd3f-e67f-4937-b15c-075fddedcf08",
   "metadata": {
    "tags": []
   },
   "outputs": [
    {
     "name": "stderr",
     "output_type": "stream",
     "text": [
      "[nltk_data] Downloading package wordnet to /home/jovyan/nltk_data...\n",
      "[nltk_data]   Package wordnet is already up-to-date!\n"
     ]
    }
   ],
   "source": [
    "nltk.download('wordnet')\n",
    "\n",
    "lemmatizer = WordNetLemmatizer()"
   ]
  },
  {
   "cell_type": "code",
   "execution_count": 5,
   "id": "096c91e6-e691-4c3d-8b9c-ef3e66de41c4",
   "metadata": {
    "tags": []
   },
   "outputs": [],
   "source": [
    "df['Tweet'] = df['Tweet'].apply(lambda x: x.lower())#lowercase\n",
    "\n",
    "df['Tweet'] = df['Tweet'].apply(lambda x: re.sub(r'(@[\\w]+\\s)+','username ',x))#username\n",
    "\n",
    "df['Tweet'] = df['Tweet'].apply(lambda x: re.sub(r'http\\S+|www\\S+','http',x))#link\n",
    "\n",
    "df['Tweet'] = df['Tweet'].apply(lambda x: re.sub(r'#(([\\w]+\\s[\\w]+)+)',r'\\1',x))#hashtags\n",
    "\n",
    "df['Tweet'] = df['Tweet'].apply(lambda x: re.sub(r'(#[\\w]+)+',' ',x))#hashtags\n",
    "\n",
    "df['Tweet'] = df['Tweet'].apply(lambda x: re.sub('[^\\w\\s]','',x))#punctuation and all emojis\n",
    "\n",
    "df['Tweet'] = df['Tweet'].apply(lambda x: re.sub('amp','and',x))\n",
    "\n",
    "df['Tweet'] = df['Tweet'].apply(lambda x: re.sub('\\s+',' ',x))#remove whitespaces\n",
    "\n",
    "df['Tweet'] = df['Tweet'].apply(lambda x: ' '.join([lemmatizer.lemmatize(word) for word in x.split()]))#lemmatization\n"
   ]
  },
  {
   "cell_type": "code",
   "execution_count": 6,
   "id": "6ede104b-8e89-43ac-96b1-08459647b979",
   "metadata": {
    "tags": []
   },
   "outputs": [],
   "source": [
    "df['category'] = df['Label'].apply(lambda x: 1 if x =='Joyous' else 2 if x =='Sarcasm' else 0)"
   ]
  },
  {
   "cell_type": "code",
   "execution_count": 7,
   "id": "0b07653a-cbcb-4cb7-8193-070a9c88773e",
   "metadata": {
    "tags": []
   },
   "outputs": [
    {
     "data": {
      "text/html": [
       "<div>\n",
       "<style scoped>\n",
       "    .dataframe tbody tr th:only-of-type {\n",
       "        vertical-align: middle;\n",
       "    }\n",
       "\n",
       "    .dataframe tbody tr th {\n",
       "        vertical-align: top;\n",
       "    }\n",
       "\n",
       "    .dataframe thead th {\n",
       "        text-align: right;\n",
       "    }\n",
       "</style>\n",
       "<table border=\"1\" class=\"dataframe\">\n",
       "  <thead>\n",
       "    <tr style=\"text-align: right;\">\n",
       "      <th></th>\n",
       "      <th>Label</th>\n",
       "      <th>Tweet</th>\n",
       "      <th>category</th>\n",
       "    </tr>\n",
       "  </thead>\n",
       "  <tbody>\n",
       "    <tr>\n",
       "      <th>0</th>\n",
       "      <td>Schadenfreude</td>\n",
       "      <td>username did the police officer in question th...</td>\n",
       "      <td>0</td>\n",
       "    </tr>\n",
       "    <tr>\n",
       "      <th>1</th>\n",
       "      <td>Schadenfreude</td>\n",
       "      <td>username please report to the carwash your bit...</td>\n",
       "      <td>0</td>\n",
       "    </tr>\n",
       "    <tr>\n",
       "      <th>2</th>\n",
       "      <td>Sarcasm</td>\n",
       "      <td>username right wing christianity is a mean and...</td>\n",
       "      <td>2</td>\n",
       "    </tr>\n",
       "    <tr>\n",
       "      <th>3</th>\n",
       "      <td>Schadenfreude</td>\n",
       "      <td>username it part of history so no it wont what...</td>\n",
       "      <td>0</td>\n",
       "    </tr>\n",
       "    <tr>\n",
       "      <th>4</th>\n",
       "      <td>Sarcasm</td>\n",
       "      <td>username i guess the forecast wa wrong but at ...</td>\n",
       "      <td>2</td>\n",
       "    </tr>\n",
       "  </tbody>\n",
       "</table>\n",
       "</div>"
      ],
      "text/plain": [
       "           Label                                              Tweet  category\n",
       "0  Schadenfreude  username did the police officer in question th...         0\n",
       "1  Schadenfreude  username please report to the carwash your bit...         0\n",
       "2        Sarcasm  username right wing christianity is a mean and...         2\n",
       "3  Schadenfreude  username it part of history so no it wont what...         0\n",
       "4        Sarcasm  username i guess the forecast wa wrong but at ...         2"
      ]
     },
     "execution_count": 7,
     "metadata": {},
     "output_type": "execute_result"
    }
   ],
   "source": [
    "df.head()"
   ]
  },
  {
   "cell_type": "code",
   "execution_count": 8,
   "id": "09502a55-0df3-47d4-8da9-c194512eccdd",
   "metadata": {
    "tags": []
   },
   "outputs": [],
   "source": [
    "from sklearn.metrics import accuracy_score\n",
    "from sklearn.model_selection import cross_val_score, KFold\n",
    "from sklearn.feature_extraction.text import CountVectorizer, TfidfVectorizer\n",
    "from sklearn.svm import SVC\n",
    "from sklearn.metrics import classification_report\n",
    "from sklearn.naive_bayes import MultinomialNB\n",
    "from sklearn.linear_model import LogisticRegression\n"
   ]
  },
  {
   "cell_type": "code",
   "execution_count": 9,
   "id": "3c259bb1-859c-478b-b4c2-0681ed46faa7",
   "metadata": {
    "tags": []
   },
   "outputs": [
    {
     "name": "stdout",
     "output_type": "stream",
     "text": [
      "Mean accuracy:  0.6684991640748316\n",
      "Std for accuracy:  0.009397306095961885\n",
      "              precision    recall  f1-score   support\n",
      "\n",
      "           0       0.78      0.74      0.76       305\n",
      "           1       0.59      0.86      0.70       280\n",
      "           2       0.79      0.38      0.51       216\n",
      "\n",
      "    accuracy                           0.68       801\n",
      "   macro avg       0.72      0.66      0.65       801\n",
      "weighted avg       0.71      0.68      0.67       801\n",
      "\n"
     ]
    }
   ],
   "source": [
    "X, y = df['Tweet'], df['category']\n",
    "metrics = []\n",
    "\n",
    "skf = KFold(n_splits=5)\n",
    "for train_index, test_index in skf.split(X, y):\n",
    "    X_train, X_test = X[train_index], X[test_index]\n",
    "    y_train, y_test = y[train_index], y[test_index]\n",
    "\n",
    "    vect = TfidfVectorizer(ngram_range=(1,3), max_features=1500)\n",
    "    X_train_dtm = vect.fit_transform(X_train)\n",
    "    X_test_dtm = vect.transform(X_test)\n",
    "    nb = MultinomialNB()\n",
    "    nb.fit(X_train_dtm, y_train)\n",
    "    y_pred_class = nb.predict(X_test_dtm)\n",
    "\n",
    "    metrics.append(accuracy_score(y_test, y_pred_class))\n",
    "\n",
    "metrics = np.array(metrics)\n",
    "print('Mean accuracy: ', np.mean(metrics, axis=0))\n",
    "print('Std for accuracy: ', np.std(metrics, axis=0))\n",
    "print(classification_report(y_test, y_pred_class))"
   ]
  },
  {
   "cell_type": "code",
   "execution_count": 10,
   "id": "7067933b-5351-415e-af62-61e92fbaa56d",
   "metadata": {
    "tags": []
   },
   "outputs": [],
   "source": [
    "from sklearn.metrics import confusion_matrix, ConfusionMatrixDisplay\n",
    "import matplotlib.pyplot as plt"
   ]
  },
  {
   "cell_type": "code",
   "execution_count": 11,
   "id": "058834f7-f6b6-488a-b206-73cd91cea95a",
   "metadata": {
    "tags": []
   },
   "outputs": [
    {
     "data": {
      "image/png": "[encoded data removed]",
      "text/plain": [
       "<Figure size 432x288 with 2 Axes>"
      ]
     },
     "metadata": {
      "needs_background": "light"
     },
     "output_type": "display_data"
    }
   ],
   "source": [
    "cm = confusion_matrix(y_test, y_pred_class, labels=nb.classes_)\n",
    "disp = ConfusionMatrixDisplay(confusion_matrix=cm, display_labels=nb.classes_)\n",
    "disp.plot()\n",
    "plt.show()"
   ]
  },
  {
   "cell_type": "code",
   "execution_count": 12,
   "id": "18402793-7592-42aa-8dbb-7418fc90e3dd",
   "metadata": {
    "tags": []
   },
   "outputs": [
    {
     "name": "stdout",
     "output_type": "stream",
     "text": [
      "Mean accuracy:  0.7286116792911603\n",
      "Std for accuracy:  0.01927902987335098\n",
      "              precision    recall  f1-score   support\n",
      "\n",
      "           0       0.86      0.79      0.82       305\n",
      "           1       0.64      0.94      0.76       280\n",
      "           2       0.77      0.38      0.51       216\n",
      "\n",
      "    accuracy                           0.73       801\n",
      "   macro avg       0.76      0.70      0.70       801\n",
      "weighted avg       0.76      0.73      0.72       801\n",
      "\n"
     ]
    }
   ],
   "source": [
    "X, y = df['Tweet'], df['category']\n",
    "metrics = []\n",
    "\n",
    "skf = KFold(n_splits=5)\n",
    "for train_index, test_index in skf.split(X, y):\n",
    "    X_train, X_test = X[train_index], X[test_index]\n",
    "    y_train, y_test = y[train_index], y[test_index]\n",
    "\n",
    "    vect = TfidfVectorizer(ngram_range=(1,3), max_features=1500)\n",
    "    X_train_dtm = vect.fit_transform(X_train)\n",
    "    X_test_dtm = vect.transform(X_test)\n",
    "    svm = SVC()\n",
    "    svm.fit(X_train_dtm, y_train)\n",
    "    y_pred_class = svm.predict(X_test_dtm)\n",
    "\n",
    "    metrics.append(accuracy_score(y_test, y_pred_class))\n",
    "\n",
    "metrics = np.array(metrics)\n",
    "print('Mean accuracy: ', np.mean(metrics, axis=0))\n",
    "print('Std for accuracy: ', np.std(metrics, axis=0))\n",
    "print(classification_report(y_test, y_pred_class))"
   ]
  },
  {
   "cell_type": "code",
   "execution_count": 13,
   "id": "6f239053-bbbf-49a3-b9c8-922d89908742",
   "metadata": {
    "tags": []
   },
   "outputs": [
    {
     "data": {
      "image/png": "[encoded data removed]",
      "text/plain": [
       "<Figure size 432x288 with 2 Axes>"
      ]
     },
     "metadata": {
      "needs_background": "light"
     },
     "output_type": "display_data"
    }
   ],
   "source": [
    "cm = confusion_matrix(y_test, y_pred_class, labels=svm.classes_)\n",
    "disp = ConfusionMatrixDisplay(confusion_matrix=cm, display_labels=svm.classes_)\n",
    "disp.plot()\n",
    "plt.show()"
   ]
  },
  {
   "cell_type": "code",
   "execution_count": 14,
   "id": "f08d3746-e7b1-46ee-94d4-e66e861e313b",
   "metadata": {
    "tags": []
   },
   "outputs": [
    {
     "name": "stdout",
     "output_type": "stream",
     "text": [
      "Mean accuracy:  0.7106534537563706\n",
      "Std for accuracy:  0.02071168146422796\n",
      "              precision    recall  f1-score   support\n",
      "\n",
      "           0       0.80      0.78      0.79       305\n",
      "           1       0.66      0.89      0.76       280\n",
      "           2       0.72      0.41      0.52       216\n",
      "\n",
      "    accuracy                           0.72       801\n",
      "   macro avg       0.73      0.69      0.69       801\n",
      "weighted avg       0.73      0.72      0.71       801\n",
      "\n"
     ]
    }
   ],
   "source": [
    "X, y = df['Tweet'], df['category']\n",
    "metrics = []\n",
    "\n",
    "skf = KFold(n_splits=5)\n",
    "for train_index, test_index in skf.split(X, y):\n",
    "    X_train, X_test = X[train_index], X[test_index]\n",
    "    y_train, y_test = y[train_index], y[test_index]\n",
    "\n",
    "    vect = TfidfVectorizer(ngram_range=(1,3), max_features=1500)\n",
    "    X_train_dtm = vect.fit_transform(X_train)\n",
    "    X_test_dtm = vect.transform(X_test)\n",
    "    lr = LogisticRegression()\n",
    "    lr.fit(X_train_dtm, y_train)\n",
    "    y_pred_class = lr.predict(X_test_dtm)\n",
    "\n",
    "    metrics.append(accuracy_score(y_test, y_pred_class))\n",
    "\n",
    "metrics = np.array(metrics)\n",
    "print('Mean accuracy: ', np.mean(metrics, axis=0))\n",
    "print('Std for accuracy: ', np.std(metrics, axis=0))\n",
    "print(classification_report(y_test, y_pred_class))"
   ]
  },
  {
   "cell_type": "code",
   "execution_count": 15,
   "id": "f1809aad-6e6c-41e6-98bc-d14b68ee1657",
   "metadata": {
    "tags": []
   },
   "outputs": [
    {
     "data": {
      "image/png": "[encoded data removed]",
      "text/plain": [
       "<Figure size 432x288 with 2 Axes>"
      ]
     },
     "metadata": {
      "needs_background": "light"
     },
     "output_type": "display_data"
    }
   ],
   "source": [
    "cm = confusion_matrix(y_test, y_pred_class, labels=lr.classes_)\n",
    "disp = ConfusionMatrixDisplay(confusion_matrix=cm, display_labels=lr.classes_)\n",
    "disp.plot()\n",
    "plt.show()"
   ]
  },
  {
   "cell_type": "code",
   "execution_count": null,
   "id": "4da92f8a-36d9-4e25-bd96-88773f2757b8",
   "metadata": {},
   "outputs": [],
   "source": [
    "# The code as well as codes for other experiments were adapted from following https://stackoverflow.com/questions/62591306/applying-k-fold-validation-for-text-classification"
   ]
  }
 ],
 "metadata": {
  "kernelspec": {
   "display_name": "Python 3.10.7 64-bit",
   "language": "python",
   "name": "python3"
  },
  "language_info": {
   "codemirror_mode": {
    "name": "ipython",
    "version": 3
   },
   "file_extension": ".py",
   "mimetype": "text/x-python",
   "name": "python",
   "nbconvert_exporter": "python",
   "pygments_lexer": "ipython3",
   "version": "3.10.7"
  },
  "vscode": {
   "interpreter": {
    "hash": "aee8b7b246df8f9039afb4144a1f6fd8d2ca17a180786b69acc140d282b71a49"
   }
  }
 },
 "nbformat": 4,
 "nbformat_minor": 5
}
